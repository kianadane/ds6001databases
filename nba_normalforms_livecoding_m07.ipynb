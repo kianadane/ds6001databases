{
 "cells": [
  {
   "cell_type": "code",
   "execution_count": null,
   "metadata": {},
   "outputs": [],
   "source": [
    "myquery = ``` \n",
    "\n",
    "```\n",
    "\n",
    "pd.read_sql(myquery, con=engine)"
   ]
  }
 ],
 "metadata": {
  "language_info": {
   "name": "python"
  }
 },
 "nbformat": 4,
 "nbformat_minor": 2
}
